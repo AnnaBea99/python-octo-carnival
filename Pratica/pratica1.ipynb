{
 "cells": [
  {
   "cell_type": "markdown",
   "id": "aac7cbad",
   "metadata": {},
   "source": [
    "1 -  Escreva um algoritmo que leia dois números e mostre o maior deles."
   ]
  },
  {
   "cell_type": "code",
   "execution_count": 3,
   "id": "a4b407aa",
   "metadata": {},
   "outputs": [
    {
     "name": "stdout",
     "output_type": "stream",
     "text": [
      "o número 15 é maior\n"
     ]
    }
   ],
   "source": [
    "n1 = 7\n",
    "n2 = 15\n",
    "\n",
    "if n1 > n2:\n",
    "    print(\"o número %s é maior\"%(n1))\n",
    "else:\n",
    "    print(\"o número %s é maior\"%(n2))"
   ]
  },
  {
   "cell_type": "markdown",
   "id": "bb546357",
   "metadata": {},
   "source": [
    "2 - Faça um algoritmo que leia um número inteiro e diga se ele é par ou ímpar."
   ]
  },
  {
   "cell_type": "code",
   "execution_count": 5,
   "id": "1db099a0",
   "metadata": {},
   "outputs": [
    {
     "name": "stdout",
     "output_type": "stream",
     "text": [
      "é ímpar\n"
     ]
    }
   ],
   "source": [
    "num1 = 15\n",
    "\n",
    "if num1 % 2 == 0:\n",
    "    print(\"é par\")\n",
    "else:\n",
    "    print('é ímpar')"
   ]
  },
  {
   "cell_type": "markdown",
   "id": "ac326777",
   "metadata": {},
   "source": [
    "3 - Crie um algoritmo que leia três números e mostre-os em ordem crescente."
   ]
  },
  {
   "cell_type": "code",
   "execution_count": 9,
   "id": "11f9a09e",
   "metadata": {},
   "outputs": [
    {
     "name": "stdout",
     "output_type": "stream",
     "text": [
      "[10, 25, 200]\n"
     ]
    }
   ],
   "source": [
    "n1 = [10, 25, 200]\n",
    "\n",
    "n1.sort()\n",
    "\n",
    "print(n1)"
   ]
  },
  {
   "cell_type": "markdown",
   "id": "48212626",
   "metadata": {},
   "source": [
    "4 - Elabore um algoritmo que calcule a soma de todos os números de 1 até N (N fornecido pelo\n",
    "usuário)."
   ]
  },
  {
   "cell_type": "code",
   "execution_count": 22,
   "id": "91a7626d",
   "metadata": {},
   "outputs": [
    {
     "name": "stdout",
     "output_type": "stream",
     "text": [
      "5050\n"
     ]
    }
   ],
   "source": [
    "num = int(input('Digte um número: '))\n",
    "\n",
    "i = (num*(num+1)/2)\n",
    "print(int(i))"
   ]
  },
  {
   "cell_type": "markdown",
   "id": "33b65f19",
   "metadata": {},
   "source": [
    "5 -  Escreva um algoritmo que calcule a tabuada de um número fornecido pelo usuário.\n"
   ]
  },
  {
   "cell_type": "code",
   "execution_count": 26,
   "id": "0506781d",
   "metadata": {},
   "outputs": [
    {
     "name": "stdout",
     "output_type": "stream",
     "text": [
      "0\n",
      "2\n",
      "4\n",
      "6\n",
      "8\n",
      "10\n",
      "12\n",
      "14\n",
      "16\n",
      "18\n",
      "20\n"
     ]
    }
   ],
   "source": [
    "num = int(input('digite um numero: '))\n",
    "\n",
    "for i in range(0,11):\n",
    "    tabuada = i * num\n",
    "    print(tabuada)"
   ]
  },
  {
   "cell_type": "markdown",
   "id": "1a54f5a3",
   "metadata": {},
   "source": [
    "6 - Crie um algoritmo que leia uma lista de números inteiros até que o usuário digite 0. Depois,\n",
    "mostre a média dos números lidos.\n"
   ]
  },
  {
   "cell_type": "code",
   "execution_count": 61,
   "id": "a5582554",
   "metadata": {},
   "outputs": [
    {
     "name": "stdout",
     "output_type": "stream",
     "text": [
      "Média:  3.5\n"
     ]
    }
   ],
   "source": [
    "numeros = []\n",
    "while True:\n",
    "    n = int(input(\"Digite um número (0 para sair): \"))\n",
    "    if n == 0:\n",
    "        break\n",
    "    numeros.append(n)\n",
    "med = sum(numeros) / len(numeros)\n",
    "print(\"Média: \", med)\n"
   ]
  },
  {
   "cell_type": "markdown",
   "id": "c63eaeb3",
   "metadata": {},
   "source": [
    "7 - Faça um algoritmo que leia um número e verifique se ele é primo"
   ]
  },
  {
   "cell_type": "code",
   "execution_count": 72,
   "id": "a739f37f",
   "metadata": {},
   "outputs": [],
   "source": [
    "import math\n",
    "primo = 9 \n",
    "# 1. Verificação de divisibilidade:\n",
    "# Para um número n, você pode verificar se ele é primo dividindo-o \n",
    "# por todos os números de 2 até a raiz quadrada de n. Se nenhum desses números dividir n de forma exata (resto zero), então n é primo.\n",
    "for i in range(1, primo):\n",
    "    if math.sqrt(primo) % primo == 0:\n",
    "        print('n é primo')\n",
    "    else:\n",
    "        ('é primo')\n"
   ]
  },
  {
   "cell_type": "markdown",
   "id": "5b2a37b0",
   "metadata": {},
   "source": [
    "8 - Crie um algoritmo que leia uma palavra e mostre se ela é um palíndromo (igual de frente para\n",
    "trás)."
   ]
  },
  {
   "cell_type": "code",
   "execution_count": null,
   "id": "8af06b88",
   "metadata": {},
   "outputs": [],
   "source": []
  },
  {
   "cell_type": "markdown",
   "id": "4161821a",
   "metadata": {},
   "source": [
    "9 - Elabore um algoritmo que gere os primeiros N termos da sequência de Fibonacci"
   ]
  },
  {
   "cell_type": "code",
   "execution_count": null,
   "id": "e8f7c9ca",
   "metadata": {},
   "outputs": [],
   "source": []
  },
  {
   "cell_type": "markdown",
   "id": "05bddcee",
   "metadata": {},
   "source": [
    "10 - Crie um algoritmo que simule uma calculadora simples (+, -, *, /) onde o usuário escolhe a\n",
    "operação e fornece dois números."
   ]
  },
  {
   "cell_type": "code",
   "execution_count": null,
   "id": "03e1ba7a",
   "metadata": {},
   "outputs": [],
   "source": []
  }
 ],
 "metadata": {
  "kernelspec": {
   "display_name": "base",
   "language": "python",
   "name": "python3"
  },
  "language_info": {
   "codemirror_mode": {
    "name": "ipython",
    "version": 3
   },
   "file_extension": ".py",
   "mimetype": "text/x-python",
   "name": "python",
   "nbconvert_exporter": "python",
   "pygments_lexer": "ipython3",
   "version": "3.12.7"
  }
 },
 "nbformat": 4,
 "nbformat_minor": 5
}
