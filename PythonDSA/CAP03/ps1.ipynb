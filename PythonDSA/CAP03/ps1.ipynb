{
 "cells": [
  {
   "cell_type": "markdown",
   "id": "eaff9b36",
   "metadata": {},
   "source": [
    "Pseudocódigo 1 - Calcular a área de um Paralelograma\n",
    "\n",
    "Início\n",
    "    Escreva \"Calculadora de Paralelogramo\"\n",
    "    Escreva \"Insira a base\"\n",
    "    Leia base\n",
    "    Escreva \"Insira a altura\"\n",
    "    Leia altura\n",
    "    area = comprimento * altura\n",
    "    Escreva \"Área do Paralelograma: \" + area\n",
    "Fim"
   ]
  },
  {
   "cell_type": "code",
   "execution_count": 6,
   "id": "fb46c93d",
   "metadata": {},
   "outputs": [
    {
     "name": "stdout",
     "output_type": "stream",
     "text": [
      "Calculadora de Paralelogramo\n"
     ]
    }
   ],
   "source": [
    "print(\"Calculadora de Paralelogramo\")"
   ]
  },
  {
   "cell_type": "code",
   "execution_count": 7,
   "id": "ab049bac",
   "metadata": {},
   "outputs": [],
   "source": [
    "base = float(input(\"Insira a base\"))"
   ]
  },
  {
   "cell_type": "code",
   "execution_count": 8,
   "id": "5e0ff7b3",
   "metadata": {},
   "outputs": [],
   "source": [
    "altura = float(input(\"Insira a altura\"))"
   ]
  },
  {
   "cell_type": "code",
   "execution_count": 9,
   "id": "e6829ece",
   "metadata": {},
   "outputs": [],
   "source": [
    "area = base * altura"
   ]
  },
  {
   "cell_type": "code",
   "execution_count": 10,
   "id": "f6d6a5a4",
   "metadata": {},
   "outputs": [
    {
     "name": "stdout",
     "output_type": "stream",
     "text": [
      "Área do Paralelograma:  10.0\n"
     ]
    }
   ],
   "source": [
    "print(\"Área do Paralelograma: \", area)"
   ]
  },
  {
   "cell_type": "markdown",
   "id": "6cf6b16c",
   "metadata": {},
   "source": [
    "Pseudocódigo 2 - Calculadora Simples\n",
    "\n",
    "Inicio\n",
    "\n",
    "Peça para o usuário inserir o primeiro número\n",
    "guarde o primeiro número \n",
    "peça para inserir o segundo número\n",
    "guarde o segundo número\n",
    "peça para que informe qual a operação a ser realizada (+, -, *, /)\n",
    "guarde a informação da operação\n",
    "realize a operação com os números\n",
    "exiba o número\n",
    "\n",
    "Fim"
   ]
  },
  {
   "cell_type": "code",
   "execution_count": 5,
   "id": "92369a1f",
   "metadata": {},
   "outputs": [
    {
     "name": "stdout",
     "output_type": "stream",
     "text": [
      "Calculadora\n"
     ]
    }
   ],
   "source": [
    "print(\"Calculadora\")\n",
    "\n",
    "num1 = float(input(\"Insira o primeiro número \"))"
   ]
  },
  {
   "cell_type": "code",
   "execution_count": 6,
   "id": "4c4fa10d",
   "metadata": {},
   "outputs": [],
   "source": [
    "num2 = float(input(\"Insira o primeiro número \"))"
   ]
  },
  {
   "cell_type": "code",
   "execution_count": 7,
   "id": "6b5fa6fa",
   "metadata": {},
   "outputs": [],
   "source": [
    "operacao = input(\"Selecione a operação (+, -, *, /) \")"
   ]
  },
  {
   "cell_type": "code",
   "execution_count": null,
   "id": "fac090ce",
   "metadata": {},
   "outputs": [
    {
     "name": "stdout",
     "output_type": "stream",
     "text": [
      "Resultado:  2.5\n"
     ]
    }
   ],
   "source": [
    "if operacao == \"+\":\n",
    "    result = num1 + num2\n",
    "    print(\"Resultado: \", result)\n",
    "\n",
    "elif operacao == \"-\":\n",
    "    result = num1 - num2\n",
    "    print(\"Resultado: \", result)\n",
    "\n",
    "elif operacao == \"*\":\n",
    "    result = num1 * num2\n",
    "    print(\"Resultado: \", result)\n",
    "\n",
    "elif operacao == \"/\":\n",
    "    result = num1 / num2\n",
    "    print(\"Resultado: \", result)\n",
    "\n",
    "else:\n",
    "    print(\"Operação não reconehcida!\")"
   ]
  },
  {
   "cell_type": "markdown",
   "id": "570e71fa",
   "metadata": {},
   "source": [
    "Pseudocódigo 3 - Bubble Sort\n",
    "\n",
    "Bubble Sort é um algoritmo de ordenação simples que funciona comparando cada elemento com o próximo, e trocando-os de lugar se eles estiverem em ordem incorreta. O algortitmo repete esse processo várias vezes, até que todos os elementos estejam ordenados. A cada passagme, o maior elemento \"flutua\" para o final do array, como uma bolha, dando origem ao nome do algoritmo."
   ]
  },
  {
   "cell_type": "markdown",
   "id": "33433710",
   "metadata": {},
   "source": [
    "Inicio\n",
    "    Peça para o usuário inserir uma sequência de números\n",
    "    Armazene esses números numa lista\n",
    "    Pegue o primeiro item e compare ele com o seguinte\n",
    "    Se o número for maior passe ele para o segundo lugar,\n",
    "    repita esse processo até chegar ao último número da lista\n",
    "    Pegue o primeiro elemento novamente e compare ele com o seguinte\n",
    "    troque-o de lugar se for maior\n",
    "    Repita esse processo até passar por todos os números da lista\n",
    "    exiba a lista ordenada.\n",
    "Fim\n",
    "\n",
    "#2\n",
    "Inicio\n",
    "    Para cada elemento i no array de tamanho n\n",
    "        Para cada elemento j no array de tamanho n-1\n",
    "            Se o elemento i for maior que elemento j\n",
    "                Troque os elementos i e j\n",
    "    Exiba o array ordenado\n",
    "\n",
    "Fim"
   ]
  },
  {
   "cell_type": "code",
   "execution_count": 14,
   "id": "9ec60402",
   "metadata": {},
   "outputs": [],
   "source": [
    "lista = [6,7,8,3,10,19,4,1,0,61,30,16,17,82,29,34,43,21,11,39,56,67,12]"
   ]
  },
  {
   "cell_type": "code",
   "execution_count": 17,
   "id": "87fc5265",
   "metadata": {},
   "outputs": [],
   "source": [
    "def bubble_sort(arr):\n",
    "    n = len(arr)\n",
    "\n",
    "    #elemento i\n",
    "    for i in range(n):\n",
    "        #elemento j\n",
    "        for j in range(0, n-i-1): #limite do array\n",
    "            if arr[j] > arr[j+1]:\n",
    "                arr[j], arr[j+1] = arr[j+1], arr[j]\n",
    "    return arr"
   ]
  },
  {
   "cell_type": "code",
   "execution_count": 18,
   "id": "a9bae6e2",
   "metadata": {},
   "outputs": [
    {
     "name": "stdout",
     "output_type": "stream",
     "text": [
      "[0, 1, 3, 4, 6, 7, 8, 10, 11, 12, 16, 17, 19, 21, 29, 30, 34, 39, 43, 56, 61, 67, 82]\n"
     ]
    }
   ],
   "source": [
    "print(bubble_sort(lista))"
   ]
  }
 ],
 "metadata": {
  "kernelspec": {
   "display_name": "base",
   "language": "python",
   "name": "python3"
  },
  "language_info": {
   "codemirror_mode": {
    "name": "ipython",
    "version": 3
   },
   "file_extension": ".py",
   "mimetype": "text/x-python",
   "name": "python",
   "nbconvert_exporter": "python",
   "pygments_lexer": "ipython3",
   "version": "3.12.7"
  }
 },
 "nbformat": 4,
 "nbformat_minor": 5
}
