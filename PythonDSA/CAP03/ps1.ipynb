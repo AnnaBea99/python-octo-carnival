{
 "cells": [
  {
   "cell_type": "markdown",
   "id": "eaff9b36",
   "metadata": {},
   "source": [
    "Pseudocódigo 1 - Calcular a área de um Paralelograma\n",
    "\n",
    "Início\n",
    "    Escreva \"Calculadora de Paralelogramo\"\n",
    "    Escreva \"Insira a base\"\n",
    "    Leia base\n",
    "    Escreva \"Insira a altura\"\n",
    "    Leia altura\n",
    "    area = comprimento * altura\n",
    "    Escreva \"Área do Paralelograma: \" + area\n",
    "Fim"
   ]
  },
  {
   "cell_type": "code",
   "execution_count": 6,
   "id": "fb46c93d",
   "metadata": {},
   "outputs": [
    {
     "name": "stdout",
     "output_type": "stream",
     "text": [
      "Calculadora de Paralelogramo\n"
     ]
    }
   ],
   "source": [
    "print(\"Calculadora de Paralelogramo\")"
   ]
  },
  {
   "cell_type": "code",
   "execution_count": 7,
   "id": "ab049bac",
   "metadata": {},
   "outputs": [],
   "source": [
    "base = float(input(\"Insira a base\"))"
   ]
  },
  {
   "cell_type": "code",
   "execution_count": 8,
   "id": "5e0ff7b3",
   "metadata": {},
   "outputs": [],
   "source": [
    "altura = float(input(\"Insira a altura\"))"
   ]
  },
  {
   "cell_type": "code",
   "execution_count": 9,
   "id": "e6829ece",
   "metadata": {},
   "outputs": [],
   "source": [
    "area = base * altura"
   ]
  },
  {
   "cell_type": "code",
   "execution_count": 10,
   "id": "f6d6a5a4",
   "metadata": {},
   "outputs": [
    {
     "name": "stdout",
     "output_type": "stream",
     "text": [
      "Área do Paralelograma:  10.0\n"
     ]
    }
   ],
   "source": [
    "print(\"Área do Paralelograma: \", area)"
   ]
  },
  {
   "cell_type": "code",
   "execution_count": null,
   "id": "cca83871",
   "metadata": {},
   "outputs": [],
   "source": []
  },
  {
   "cell_type": "markdown",
   "id": "aae88adb",
   "metadata": {},
   "source": [
    "tyui"
   ]
  }
 ],
 "metadata": {
  "kernelspec": {
   "display_name": "base",
   "language": "python",
   "name": "python3"
  },
  "language_info": {
   "codemirror_mode": {
    "name": "ipython",
    "version": 3
   },
   "file_extension": ".py",
   "mimetype": "text/x-python",
   "name": "python",
   "nbconvert_exporter": "python",
   "pygments_lexer": "ipython3",
   "version": "3.12.7"
  }
 },
 "nbformat": 4,
 "nbformat_minor": 5
}
