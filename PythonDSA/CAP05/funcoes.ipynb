{
 "cells": [
  {
   "cell_type": "markdown",
   "id": "4e03fb2a",
   "metadata": {},
   "source": [
    "## Funções\n"
   ]
  },
  {
   "cell_type": "code",
   "execution_count": 3,
   "id": "90ff5f66",
   "metadata": {},
   "outputs": [
    {
     "name": "stdout",
     "output_type": "stream",
     "text": [
      "hello world\n"
     ]
    }
   ],
   "source": [
    "print('hello world')\n"
   ]
  },
  {
   "cell_type": "code",
   "execution_count": null,
   "id": "b6881fe3",
   "metadata": {},
   "outputs": [],
   "source": [
    "def primeiraFunc():\n",
    "    print('hello world')"
   ]
  },
  {
   "cell_type": "code",
   "execution_count": null,
   "id": "42448f19",
   "metadata": {},
   "outputs": [],
   "source": [
    "primeiraFunc()"
   ]
  },
  {
   "cell_type": "code",
   "execution_count": 2,
   "id": "04d3027d",
   "metadata": {},
   "outputs": [],
   "source": [
    "def primeiraFunc():\n",
    "    nome = 'Bob'\n",
    "    print('Hello $s' %(nome))"
   ]
  },
  {
   "cell_type": "code",
   "execution_count": null,
   "id": "1bfcfb72",
   "metadata": {},
   "outputs": [],
   "source": [
    "primeiraFunc()"
   ]
  },
  {
   "cell_type": "code",
   "execution_count": null,
   "id": "919feb76",
   "metadata": {},
   "outputs": [],
   "source": [
    "# função como parametro \n",
    "def segundaFunc(nome):\n",
    "    print('Hello $s' %(nome))\n"
   ]
  },
  {
   "cell_type": "code",
   "execution_count": null,
   "id": "9aca07d3",
   "metadata": {},
   "outputs": [],
   "source": [
    "segundaFunc('Aluno')"
   ]
  },
  {
   "cell_type": "code",
   "execution_count": null,
   "id": "4be4a2be",
   "metadata": {},
   "outputs": [],
   "source": [
    "# função para imprimir numeros\n",
    "\n",
    "def imprimeNumeros():\n",
    "    for i in range(0,5):\n",
    "        print('numero ' + str(i))"
   ]
  },
  {
   "cell_type": "code",
   "execution_count": null,
   "id": "16380761",
   "metadata": {},
   "outputs": [],
   "source": [
    "# somar numeros\n",
    "\n",
    "def addNum(firstnum, secondnum):\n",
    "    print('n1: ' + str(firstnum))\n",
    "    print('n2: ' + str(secondnum))\n",
    "    print('soma: ', firstnum + secondnum)"
   ]
  },
  {
   "cell_type": "code",
   "execution_count": null,
   "id": "c71c3a67",
   "metadata": {},
   "outputs": [],
   "source": [
    "addNum(2,3)"
   ]
  },
  {
   "cell_type": "code",
   "execution_count": 46,
   "id": "7610917c",
   "metadata": {},
   "outputs": [],
   "source": [
    "# funções com numero variavel de argumento\n",
    "\n",
    "# o * serve para quando não sabe quantos argumentos vão ser utilizados\n",
    " \n",
    "def varInfo(arg1, *vartuple):\n",
    "    print('parametro passado: ' + arg1)\n",
    "\n",
    "    for item in vartuple:\n",
    "        print('parametro passado: ', item)\n",
    "    return"
   ]
  },
  {
   "cell_type": "code",
   "execution_count": 47,
   "id": "3abd9d80",
   "metadata": {},
   "outputs": [
    {
     "ename": "TypeError",
     "evalue": "can only concatenate str (not \"int\") to str",
     "output_type": "error",
     "traceback": [
      "\u001b[1;31m---------------------------------------------------------------------------\u001b[0m",
      "\u001b[1;31mTypeError\u001b[0m                                 Traceback (most recent call last)",
      "Cell \u001b[1;32mIn[47], line 1\u001b[0m\n\u001b[1;32m----> 1\u001b[0m varInfo(\u001b[38;5;241m10\u001b[39m)\n",
      "Cell \u001b[1;32mIn[46], line 6\u001b[0m, in \u001b[0;36mvarInfo\u001b[1;34m(arg1, *vartuple)\u001b[0m\n\u001b[0;32m      5\u001b[0m \u001b[38;5;28;01mdef\u001b[39;00m \u001b[38;5;21mvarInfo\u001b[39m(arg1, \u001b[38;5;241m*\u001b[39mvartuple):\n\u001b[1;32m----> 6\u001b[0m     \u001b[38;5;28mprint\u001b[39m(\u001b[38;5;124m'\u001b[39m\u001b[38;5;124mparametro passado: \u001b[39m\u001b[38;5;124m'\u001b[39m \u001b[38;5;241m+\u001b[39m arg1)\n\u001b[0;32m      8\u001b[0m     \u001b[38;5;28;01mfor\u001b[39;00m item \u001b[38;5;129;01min\u001b[39;00m vartuple:\n\u001b[0;32m      9\u001b[0m         \u001b[38;5;28mprint\u001b[39m(\u001b[38;5;124m'\u001b[39m\u001b[38;5;124mparametro passado: \u001b[39m\u001b[38;5;124m'\u001b[39m, item)\n",
      "\u001b[1;31mTypeError\u001b[0m: can only concatenate str (not \"int\") to str"
     ]
    }
   ],
   "source": [
    "varInfo(10)"
   ]
  },
  {
   "cell_type": "code",
   "execution_count": null,
   "id": "e1c6edb0",
   "metadata": {},
   "outputs": [],
   "source": [
    "varInfo('Chocolate', 'Morango')"
   ]
  },
  {
   "cell_type": "markdown",
   "id": "859864a9",
   "metadata": {},
   "source": [
    "#### Escopo de variável - Local e global"
   ]
  },
  {
   "cell_type": "code",
   "execution_count": 1,
   "id": "dc8fac13",
   "metadata": {},
   "outputs": [],
   "source": [
    "# global\n",
    "\n",
    "var_global = 10\n",
    "\n",
    "def multiplica_num(num1, num2):\n",
    "    var_global = num1 * num2\n",
    "    print(var_global)"
   ]
  },
  {
   "cell_type": "code",
   "execution_count": 2,
   "id": "efa1eea8",
   "metadata": {},
   "outputs": [
    {
     "name": "stdout",
     "output_type": "stream",
     "text": [
      "100\n"
     ]
    }
   ],
   "source": [
    "multiplica_num(10,10)"
   ]
  },
  {
   "cell_type": "code",
   "execution_count": 3,
   "id": "15e4b323",
   "metadata": {},
   "outputs": [
    {
     "name": "stdout",
     "output_type": "stream",
     "text": [
      "10\n"
     ]
    }
   ],
   "source": [
    "print(var_global)"
   ]
  },
  {
   "cell_type": "code",
   "execution_count": 4,
   "id": "0a092662",
   "metadata": {},
   "outputs": [],
   "source": [
    "var_global = 10\n",
    "\n",
    "def multiplica_num(num1, num2):\n",
    "    var_local = num1 * num2\n",
    "    print(var_local)"
   ]
  },
  {
   "cell_type": "code",
   "execution_count": 5,
   "id": "b049acb2",
   "metadata": {},
   "outputs": [
    {
     "name": "stdout",
     "output_type": "stream",
     "text": [
      "100\n"
     ]
    }
   ],
   "source": [
    "multiplica_num(10,10)"
   ]
  },
  {
   "cell_type": "code",
   "execution_count": null,
   "id": "fdf1dc42",
   "metadata": {},
   "outputs": [],
   "source": [
    "# * a variável só existe dentro da função * # \n",
    "print(var_local)"
   ]
  },
  {
   "cell_type": "markdown",
   "id": "c9f0be71",
   "metadata": {},
   "source": [
    "#### Funções Built-in"
   ]
  },
  {
   "cell_type": "code",
   "execution_count": 7,
   "id": "977c2aa1",
   "metadata": {},
   "outputs": [
    {
     "data": {
      "text/plain": [
       "56"
      ]
     },
     "execution_count": 7,
     "metadata": {},
     "output_type": "execute_result"
    }
   ],
   "source": [
    "abs(-56)"
   ]
  },
  {
   "cell_type": "code",
   "execution_count": 8,
   "id": "a9d065f4",
   "metadata": {},
   "outputs": [
    {
     "data": {
      "text/plain": [
       "23"
      ]
     },
     "execution_count": 8,
     "metadata": {},
     "output_type": "execute_result"
    }
   ],
   "source": [
    "abs(23)"
   ]
  },
  {
   "cell_type": "code",
   "execution_count": 9,
   "id": "a6e6c85a",
   "metadata": {},
   "outputs": [
    {
     "data": {
      "text/plain": [
       "False"
      ]
     },
     "execution_count": 9,
     "metadata": {},
     "output_type": "execute_result"
    }
   ],
   "source": [
    "bool(0)"
   ]
  },
  {
   "cell_type": "code",
   "execution_count": 16,
   "id": "48530a70",
   "metadata": {},
   "outputs": [
    {
     "data": {
      "text/plain": [
       "4"
      ]
     },
     "execution_count": 16,
     "metadata": {},
     "output_type": "execute_result"
    }
   ],
   "source": [
    "int(4.3)"
   ]
  },
  {
   "cell_type": "code",
   "execution_count": 11,
   "id": "ab410f31",
   "metadata": {},
   "outputs": [
    {
     "data": {
      "text/plain": [
       "'13'"
      ]
     },
     "execution_count": 11,
     "metadata": {},
     "output_type": "execute_result"
    }
   ],
   "source": [
    "str(13)"
   ]
  },
  {
   "cell_type": "code",
   "execution_count": 12,
   "id": "877c6617",
   "metadata": {},
   "outputs": [
    {
     "data": {
      "text/plain": [
       "5.0"
      ]
     },
     "execution_count": 12,
     "metadata": {},
     "output_type": "execute_result"
    }
   ],
   "source": [
    "float(5)"
   ]
  },
  {
   "cell_type": "code",
   "execution_count": null,
   "id": "3f71eaf9",
   "metadata": {},
   "outputs": [],
   "source": [
    "# erro ao executar por causa da conversão\n",
    "\n",
    "idade = input(\"Digite sua idade: \")\n",
    "\n",
    "if idade > 13:\n",
    "    print(\"ok\")\n",
    "else:\n",
    "    print('não ok')"
   ]
  },
  {
   "cell_type": "code",
   "execution_count": 18,
   "id": "d4a2410a",
   "metadata": {},
   "outputs": [
    {
     "name": "stdout",
     "output_type": "stream",
     "text": [
      "não ok\n"
     ]
    }
   ],
   "source": [
    "idade = int(input(\"Digite sua idade: \"))\n",
    "\n",
    "if idade > 13:\n",
    "    print(\"ok\")\n",
    "else:\n",
    "    print('não ok')"
   ]
  },
  {
   "cell_type": "code",
   "execution_count": 19,
   "id": "47f53b65",
   "metadata": {},
   "outputs": [
    {
     "data": {
      "text/plain": [
       "26"
      ]
     },
     "execution_count": 19,
     "metadata": {},
     "output_type": "execute_result"
    }
   ],
   "source": [
    "int('26')"
   ]
  },
  {
   "cell_type": "code",
   "execution_count": 20,
   "id": "39ba38b1",
   "metadata": {},
   "outputs": [
    {
     "data": {
      "text/plain": [
       "123.345"
      ]
     },
     "execution_count": 20,
     "metadata": {},
     "output_type": "execute_result"
    }
   ],
   "source": [
    "float('123.345')"
   ]
  },
  {
   "cell_type": "code",
   "execution_count": 21,
   "id": "f9198de9",
   "metadata": {},
   "outputs": [
    {
     "data": {
      "text/plain": [
       "'14'"
      ]
     },
     "execution_count": 21,
     "metadata": {},
     "output_type": "execute_result"
    }
   ],
   "source": [
    "str(14)"
   ]
  },
  {
   "cell_type": "code",
   "execution_count": 22,
   "id": "5decbd93",
   "metadata": {},
   "outputs": [
    {
     "data": {
      "text/plain": [
       "4"
      ]
     },
     "execution_count": 22,
     "metadata": {},
     "output_type": "execute_result"
    }
   ],
   "source": [
    "len([23,24,45,33])"
   ]
  },
  {
   "cell_type": "code",
   "execution_count": 24,
   "id": "8254b651",
   "metadata": {},
   "outputs": [],
   "source": [
    "array = [1,2,3]"
   ]
  },
  {
   "cell_type": "code",
   "execution_count": 25,
   "id": "d48dc88e",
   "metadata": {},
   "outputs": [
    {
     "data": {
      "text/plain": [
       "3"
      ]
     },
     "execution_count": 25,
     "metadata": {},
     "output_type": "execute_result"
    }
   ],
   "source": [
    "max(array)"
   ]
  },
  {
   "cell_type": "code",
   "execution_count": 26,
   "id": "401983e2",
   "metadata": {},
   "outputs": [
    {
     "data": {
      "text/plain": [
       "1"
      ]
     },
     "execution_count": 26,
     "metadata": {},
     "output_type": "execute_result"
    }
   ],
   "source": [
    "min(array)"
   ]
  },
  {
   "cell_type": "code",
   "execution_count": 27,
   "id": "c52c6f00",
   "metadata": {},
   "outputs": [],
   "source": [
    "list1= [16, 23, 99, 45]"
   ]
  },
  {
   "cell_type": "code",
   "execution_count": 28,
   "id": "409e2d29",
   "metadata": {},
   "outputs": [
    {
     "data": {
      "text/plain": [
       "183"
      ]
     },
     "execution_count": 28,
     "metadata": {},
     "output_type": "execute_result"
    }
   ],
   "source": [
    "sum(list1)"
   ]
  },
  {
   "cell_type": "markdown",
   "id": "f6826ee8",
   "metadata": {},
   "source": [
    "#### Criando funções usando outras funções\n",
    "\n",
    "pypi.org"
   ]
  },
  {
   "cell_type": "code",
   "execution_count": 29,
   "id": "90ceafc4",
   "metadata": {},
   "outputs": [],
   "source": [
    "import math\n",
    "\n",
    "def numPrimo(num):\n",
    "    if(num % 2) == 0 and num > 2:\n",
    "        return \"Este número não é primo\"\n",
    "    for i in range(3, int(math.sqrt(num)) + 1, 2):\n",
    "        if (num % i) == 0:\n",
    "            return \"Este número não é primo\"\n",
    "    return \"Este número é primo\""
   ]
  },
  {
   "cell_type": "code",
   "execution_count": 30,
   "id": "34073464",
   "metadata": {},
   "outputs": [
    {
     "data": {
      "text/plain": [
       "'Este número é primo'"
      ]
     },
     "execution_count": 30,
     "metadata": {},
     "output_type": "execute_result"
    }
   ],
   "source": [
    "numPrimo(541)"
   ]
  },
  {
   "cell_type": "code",
   "execution_count": 33,
   "id": "f1db1013",
   "metadata": {},
   "outputs": [
    {
     "data": {
      "text/plain": [
       "'Este número é primo'"
      ]
     },
     "execution_count": 33,
     "metadata": {},
     "output_type": "execute_result"
    }
   ],
   "source": [
    "numPrimo(2)"
   ]
  },
  {
   "cell_type": "code",
   "execution_count": 34,
   "id": "297f2864",
   "metadata": {},
   "outputs": [],
   "source": [
    "caixa_baixa = 'ESTE TEXTO DEVERIA ESTAR EM LOWERCASE'"
   ]
  },
  {
   "cell_type": "code",
   "execution_count": 35,
   "id": "d8e9afae",
   "metadata": {},
   "outputs": [],
   "source": [
    "def lowercase(text):\n",
    "    return text.lower()"
   ]
  },
  {
   "cell_type": "code",
   "execution_count": 36,
   "id": "0b887d33",
   "metadata": {},
   "outputs": [],
   "source": [
    "lowercased_string = lowercase(caixa_baixa)"
   ]
  },
  {
   "cell_type": "code",
   "execution_count": 37,
   "id": "a5dceba9",
   "metadata": {},
   "outputs": [
    {
     "data": {
      "text/plain": [
       "'este texto deveria estar em lowercase'"
      ]
     },
     "execution_count": 37,
     "metadata": {},
     "output_type": "execute_result"
    }
   ],
   "source": [
    "lowercased_string"
   ]
  },
  {
   "cell_type": "markdown",
   "id": "19ca2a1b",
   "metadata": {},
   "source": [
    "#### Fazendo split dos dados"
   ]
  },
  {
   "cell_type": "code",
   "execution_count": 38,
   "id": "5c1994f6",
   "metadata": {},
   "outputs": [],
   "source": [
    "def split_string_palavras(text):\n",
    "    return text.split(' ')"
   ]
  },
  {
   "cell_type": "code",
   "execution_count": 39,
   "id": "f62da356",
   "metadata": {},
   "outputs": [],
   "source": [
    "texto = 'função util para separar grandes volumes de dados.'"
   ]
  },
  {
   "cell_type": "code",
   "execution_count": 40,
   "id": "4824a213",
   "metadata": {},
   "outputs": [
    {
     "name": "stdout",
     "output_type": "stream",
     "text": [
      "['função', 'util', 'para', 'separar', 'grandes', 'volumes', 'de', 'dados.']\n"
     ]
    }
   ],
   "source": [
    "print(split_string_palavras(texto))"
   ]
  },
  {
   "cell_type": "code",
   "execution_count": null,
   "id": "127677cb",
   "metadata": {},
   "outputs": [],
   "source": [
    "# atribução do output de uma função para uma variável\n",
    "token = split_string_palavras(texto)"
   ]
  },
  {
   "cell_type": "code",
   "execution_count": 45,
   "id": "46943938",
   "metadata": {},
   "outputs": [
    {
     "data": {
      "text/plain": [
       "['função', 'util', 'para', 'separar', 'grandes', 'volumes', 'de', 'dados.']"
      ]
     },
     "execution_count": 45,
     "metadata": {},
     "output_type": "execute_result"
    }
   ],
   "source": [
    "token"
   ]
  },
  {
   "cell_type": "code",
   "execution_count": 43,
   "id": "d796906b",
   "metadata": {},
   "outputs": [],
   "source": [
    "def split_strig_letras(text):\n",
    "    texto = text.upper()\n",
    "    for letra in texto:\n",
    "        print(letra)"
   ]
  },
  {
   "cell_type": "code",
   "execution_count": 44,
   "metadata": {},
   "outputs": [
    {
     "name": "stdout",
     "output_type": "stream",
     "text": [
      "F\n",
      "U\n",
      "N\n",
      "Ç\n",
      "Ã\n",
      "O\n",
      " \n",
      "U\n",
      "T\n",
      "I\n",
      "L\n",
      " \n",
      "P\n",
      "A\n",
      "R\n",
      "A\n",
      " \n",
      "S\n",
      "E\n",
      "P\n",
      "A\n",
      "R\n",
      "A\n",
      "R\n",
      " \n",
      "G\n",
      "R\n",
      "A\n",
      "N\n",
      "D\n",
      "E\n",
      "S\n",
      " \n",
      "V\n",
      "O\n",
      "L\n",
      "U\n",
      "M\n",
      "E\n",
      "S\n",
      " \n",
      "D\n",
      "E\n",
      " \n",
      "D\n",
      "A\n",
      "D\n",
      "O\n",
      "S\n",
      ".\n"
     ]
    }
   ],
   "source": [
    "split_strig_letras(texto)"
   ]
  }
 ],
 "metadata": {
  "kernelspec": {
   "display_name": "base",
   "language": "python",
   "name": "python3"
  },
  "language_info": {
   "codemirror_mode": {
    "name": "ipython",
    "version": 3
   },
   "file_extension": ".py",
   "mimetype": "text/x-python",
   "name": "python",
   "nbconvert_exporter": "python",
   "pygments_lexer": "ipython3",
   "version": "3.12.7"
  }
 },
 "nbformat": 4,
 "nbformat_minor": 5
}
