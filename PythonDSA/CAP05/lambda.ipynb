{
 "cells": [
  {
   "cell_type": "markdown",
   "id": "42f13ab3",
   "metadata": {},
   "source": [
    "### Expressão Lambda"
   ]
  },
  {
   "cell_type": "code",
   "execution_count": 1,
   "id": "78c9a607",
   "metadata": {},
   "outputs": [],
   "source": [
    "def potencia(num):\n",
    "    resultado = num ** 2\n",
    "    return resultado"
   ]
  },
  {
   "cell_type": "code",
   "execution_count": 6,
   "id": "6ffff116",
   "metadata": {},
   "outputs": [
    {
     "data": {
      "text/plain": [
       "100"
      ]
     },
     "execution_count": 6,
     "metadata": {},
     "output_type": "execute_result"
    }
   ],
   "source": [
    "potencia(10)"
   ]
  },
  {
   "cell_type": "code",
   "execution_count": 2,
   "id": "7f96d980",
   "metadata": {},
   "outputs": [],
   "source": [
    "def potencia(num):\n",
    "    return num ** 2"
   ]
  },
  {
   "cell_type": "code",
   "execution_count": 7,
   "id": "dc646770",
   "metadata": {},
   "outputs": [
    {
     "data": {
      "text/plain": [
       "625"
      ]
     },
     "execution_count": 7,
     "metadata": {},
     "output_type": "execute_result"
    }
   ],
   "source": [
    "potencia(25)"
   ]
  },
  {
   "cell_type": "code",
   "execution_count": 3,
   "id": "f718cdb8",
   "metadata": {},
   "outputs": [],
   "source": [
    "def potencia(num): return num ** 2"
   ]
  },
  {
   "cell_type": "code",
   "execution_count": 8,
   "id": "270d2c80",
   "metadata": {},
   "outputs": [
    {
     "data": {
      "text/plain": [
       "25"
      ]
     },
     "execution_count": 8,
     "metadata": {},
     "output_type": "execute_result"
    }
   ],
   "source": [
    "potencia(5)"
   ]
  },
  {
   "cell_type": "code",
   "execution_count": 9,
   "id": "53af087d",
   "metadata": {},
   "outputs": [],
   "source": [
    "# lambda (função anônima)\n",
    "\n",
    "potencia = lambda num: num ** 2"
   ]
  },
  {
   "cell_type": "code",
   "execution_count": 10,
   "id": "8aa46f0b",
   "metadata": {},
   "outputs": [
    {
     "data": {
      "text/plain": [
       "16"
      ]
     },
     "execution_count": 10,
     "metadata": {},
     "output_type": "execute_result"
    }
   ],
   "source": [
    "potencia(4)"
   ]
  },
  {
   "cell_type": "code",
   "execution_count": 15,
   "id": "d7f433a2",
   "metadata": {},
   "outputs": [],
   "source": [
    "#* operadores de marcação retornam boolean: true or false não preciso dar um nome a função\n",
    "Par = lambda x: x%2==0"
   ]
  },
  {
   "cell_type": "code",
   "execution_count": 12,
   "id": "c04edf01",
   "metadata": {},
   "outputs": [
    {
     "data": {
      "text/plain": [
       "False"
      ]
     },
     "execution_count": 12,
     "metadata": {},
     "output_type": "execute_result"
    }
   ],
   "source": [
    "Par(3)"
   ]
  },
  {
   "cell_type": "code",
   "execution_count": 13,
   "id": "b0014fcf",
   "metadata": {},
   "outputs": [
    {
     "data": {
      "text/plain": [
       "True"
      ]
     },
     "execution_count": 13,
     "metadata": {},
     "output_type": "execute_result"
    }
   ],
   "source": [
    "Par(4)"
   ]
  },
  {
   "cell_type": "code",
   "execution_count": 17,
   "id": "839dc835",
   "metadata": {},
   "outputs": [],
   "source": [
    "first = lambda s: s[5]"
   ]
  },
  {
   "cell_type": "code",
   "execution_count": 18,
   "id": "06a286cc",
   "metadata": {},
   "outputs": [
    {
     "data": {
      "text/plain": [
       "'n'"
      ]
     },
     "execution_count": 18,
     "metadata": {},
     "output_type": "execute_result"
    }
   ],
   "source": [
    "first('python')"
   ]
  },
  {
   "cell_type": "code",
   "execution_count": 19,
   "id": "f4cf686f",
   "metadata": {},
   "outputs": [],
   "source": [
    "reverso = lambda s: s[::-1]"
   ]
  },
  {
   "cell_type": "code",
   "execution_count": 20,
   "id": "938dc7d4",
   "metadata": {},
   "outputs": [
    {
     "data": {
      "text/plain": [
       "'nohtyp'"
      ]
     },
     "execution_count": 20,
     "metadata": {},
     "output_type": "execute_result"
    }
   ],
   "source": [
    "reverso('python')"
   ]
  },
  {
   "cell_type": "code",
   "execution_count": 21,
   "id": "25941db5",
   "metadata": {},
   "outputs": [],
   "source": [
    "addNum = lambda x,y: x+y"
   ]
  },
  {
   "cell_type": "code",
   "execution_count": 22,
   "id": "aaf138a2",
   "metadata": {},
   "outputs": [
    {
     "data": {
      "text/plain": [
       "5"
      ]
     },
     "execution_count": 22,
     "metadata": {},
     "output_type": "execute_result"
    }
   ],
   "source": [
    "addNum(2,3)"
   ]
  }
 ],
 "metadata": {
  "kernelspec": {
   "display_name": "base",
   "language": "python",
   "name": "python3"
  },
  "language_info": {
   "codemirror_mode": {
    "name": "ipython",
    "version": 3
   },
   "file_extension": ".py",
   "mimetype": "text/x-python",
   "name": "python",
   "nbconvert_exporter": "python",
   "pygments_lexer": "ipython3",
   "version": "3.12.7"
  }
 },
 "nbformat": 4,
 "nbformat_minor": 5
}
