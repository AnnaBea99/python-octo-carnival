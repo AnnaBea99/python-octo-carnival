{
 "cells": [
  {
   "cell_type": "markdown",
   "id": "676ba288",
   "metadata": {},
   "source": [
    "### List Comprehension\n",
    "\n",
    "[expressão for item in iterable if condição == True]"
   ]
  },
  {
   "cell_type": "code",
   "execution_count": 1,
   "id": "68ee980c",
   "metadata": {},
   "outputs": [
    {
     "data": {
      "text/plain": [
       "[0, 1, 2, 3, 4, 5, 6, 7, 8, 9]"
      ]
     },
     "execution_count": 1,
     "metadata": {},
     "output_type": "execute_result"
    }
   ],
   "source": [
    "# List comprehension que imprime números de 1 a 10\n",
    "\n",
    "[x for x in range(10)]"
   ]
  },
  {
   "cell_type": "code",
   "execution_count": 2,
   "id": "9d9015f5",
   "metadata": {},
   "outputs": [],
   "source": [
    "# List comprehension que imprime números de 1 a 10 e salva numa lista\n",
    "\n",
    "lista = [x for x in range(10)]"
   ]
  },
  {
   "cell_type": "code",
   "execution_count": 3,
   "id": "cc65a261",
   "metadata": {},
   "outputs": [
    {
     "name": "stdout",
     "output_type": "stream",
     "text": [
      "[0, 1, 2, 3, 4, 5, 6, 7, 8, 9]\n"
     ]
    }
   ],
   "source": [
    "print(lista)"
   ]
  },
  {
   "cell_type": "code",
   "execution_count": 4,
   "id": "df1bb72e",
   "metadata": {},
   "outputs": [
    {
     "name": "stdout",
     "output_type": "stream",
     "text": [
      "[0, 1, 2, 3, 4]\n"
     ]
    }
   ],
   "source": [
    "lista = [x for x in range(10) if x < 5]\n",
    "print(lista)"
   ]
  },
  {
   "cell_type": "code",
   "execution_count": 6,
   "id": "41fdded3",
   "metadata": {},
   "outputs": [],
   "source": [
    "frutas = ['morango', 'banana', 'melancia', 'abacate', 'manga']\n",
    "\n",
    "frutas_n = []"
   ]
  },
  {
   "cell_type": "code",
   "execution_count": 7,
   "id": "98764639",
   "metadata": {},
   "outputs": [
    {
     "name": "stdout",
     "output_type": "stream",
     "text": [
      "['morango', 'melancia', 'manga']\n"
     ]
    }
   ],
   "source": [
    "for x in frutas:\n",
    "    if 'm' in x:\n",
    "        frutas_n.append(x)\n",
    "print(frutas_n)"
   ]
  },
  {
   "cell_type": "code",
   "execution_count": 9,
   "id": "92259398",
   "metadata": {},
   "outputs": [
    {
     "name": "stdout",
     "output_type": "stream",
     "text": [
      "['morango', 'melancia', 'manga']\n"
     ]
    }
   ],
   "source": [
    "frutas_n = [x for x in frutas if 'm' in x]\n",
    "print(frutas_n)"
   ]
  },
  {
   "cell_type": "code",
   "execution_count": 11,
   "id": "01f1168d",
   "metadata": {},
   "outputs": [
    {
     "name": "stdout",
     "output_type": "stream",
     "text": [
      "{'Bob': 68, 'Michel': 84, 'Zico': 57, 'Ana': 93}\n"
     ]
    }
   ],
   "source": [
    "# Dicionário\n",
    "dict_alunos = {'Bob': 68, 'Michel': 84, 'Zico': 57, 'Ana': 93}\n",
    "dict_alunos_status = {k:v for (k,v) in dict_alunos.items()}\n",
    "print(dict_alunos_status)"
   ]
  },
  {
   "cell_type": "code",
   "execution_count": 13,
   "id": "2be03afe",
   "metadata": {},
   "outputs": [
    {
     "name": "stdout",
     "output_type": "stream",
     "text": [
      "{'Bob': 'Reprovado', 'Michel': 'Aprovado ', 'Zico': 'Reprovado', 'Ana': 'Aprovado '}\n"
     ]
    }
   ],
   "source": [
    "dict_alunos = {'Bob': 68, 'Michel': 84, 'Zico': 57, 'Ana': 93}\n",
    "dict_alunos_status = {k: ('Aprovado ' if v > 70 else 'Reprovado') for (k,v) in dict_alunos.items()}\n",
    "print(dict_alunos_status)"
   ]
  }
 ],
 "metadata": {
  "kernelspec": {
   "display_name": "base",
   "language": "python",
   "name": "python3"
  },
  "language_info": {
   "codemirror_mode": {
    "name": "ipython",
    "version": 3
   },
   "file_extension": ".py",
   "mimetype": "text/x-python",
   "name": "python",
   "nbconvert_exporter": "python",
   "pygments_lexer": "ipython3",
   "version": "3.12.7"
  }
 },
 "nbformat": 4,
 "nbformat_minor": 5
}
