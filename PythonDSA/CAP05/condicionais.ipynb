{
 "cells": [
  {
   "cell_type": "markdown",
   "id": "6f8b6872",
   "metadata": {},
   "source": [
    "## Capítulo 5 - Condicionais\n",
    "\n"
   ]
  },
  {
   "cell_type": "markdown",
   "id": "3c3f0258",
   "metadata": {},
   "source": [
    "### Condicional if"
   ]
  },
  {
   "cell_type": "code",
   "execution_count": 1,
   "id": "f9402050",
   "metadata": {},
   "outputs": [
    {
     "name": "stdout",
     "output_type": "stream",
     "text": [
      "A sentença é verdadeira!\n"
     ]
    }
   ],
   "source": [
    "if 5 > 2:\n",
    "    print(\"A sentença é verdadeira!\")"
   ]
  },
  {
   "cell_type": "code",
   "execution_count": 2,
   "id": "ecb283ab",
   "metadata": {},
   "outputs": [
    {
     "name": "stdout",
     "output_type": "stream",
     "text": [
      "A sentença é verdadeira!\n"
     ]
    }
   ],
   "source": [
    "if 5 > 2:\n",
    "    print(\"A sentença é verdadeira!\")\n",
    "else:\n",
    "    print(\"A sentença é falsa!\")"
   ]
  },
  {
   "cell_type": "code",
   "execution_count": 6,
   "id": "9be52c1f",
   "metadata": {},
   "outputs": [
    {
     "name": "stdout",
     "output_type": "stream",
     "text": [
      "Hoje vai chover!\n"
     ]
    }
   ],
   "source": [
    "dia = \"terça\"\n",
    "if dia == \"segunda\":\n",
    "    print(\"Hoje fará Sol!\")\n",
    "else:\n",
    "    print(\"Hoje vai chover!\")    "
   ]
  },
  {
   "cell_type": "code",
   "execution_count": 7,
   "id": "e92b9cf3",
   "metadata": {},
   "outputs": [
    {
     "name": "stdout",
     "output_type": "stream",
     "text": [
      "Hoje vai chover!\n"
     ]
    }
   ],
   "source": [
    "if dia == \"segunda\":\n",
    "    print(\"Hoje fará Sol!\")\n",
    "elif dia == \"terça\":\n",
    "    print(\"Hoje vai chover!\")\n",
    "else:\n",
    "    print(\"Sem previsão de tempo\")"
   ]
  },
  {
   "cell_type": "markdown",
   "id": "0185fffa",
   "metadata": {},
   "source": [
    "### Operadores Relacionais"
   ]
  },
  {
   "cell_type": "code",
   "execution_count": 9,
   "id": "a2543b46",
   "metadata": {},
   "outputs": [
    {
     "data": {
      "text/plain": [
       "True"
      ]
     },
     "execution_count": 9,
     "metadata": {},
     "output_type": "execute_result"
    }
   ],
   "source": [
    "6 > 3  "
   ]
  },
  {
   "cell_type": "code",
   "execution_count": 10,
   "id": "17c83aac",
   "metadata": {},
   "outputs": [
    {
     "data": {
      "text/plain": [
       "False"
      ]
     },
     "execution_count": 10,
     "metadata": {},
     "output_type": "execute_result"
    }
   ],
   "source": [
    "3 > 7"
   ]
  },
  {
   "cell_type": "code",
   "execution_count": 11,
   "id": "250814ee",
   "metadata": {},
   "outputs": [
    {
     "data": {
      "text/plain": [
       "True"
      ]
     },
     "execution_count": 11,
     "metadata": {},
     "output_type": "execute_result"
    }
   ],
   "source": [
    "4 < 8"
   ]
  },
  {
   "cell_type": "code",
   "execution_count": 12,
   "id": "572a6483",
   "metadata": {},
   "outputs": [
    {
     "data": {
      "text/plain": [
       "True"
      ]
     },
     "execution_count": 12,
     "metadata": {},
     "output_type": "execute_result"
    }
   ],
   "source": [
    "4 >= 4"
   ]
  },
  {
   "cell_type": "code",
   "execution_count": 13,
   "id": "fe62a301",
   "metadata": {},
   "outputs": [
    {
     "name": "stdout",
     "output_type": "stream",
     "text": [
      "teste\n"
     ]
    }
   ],
   "source": [
    "if 5 == 5:\n",
    "    print(\"teste\")"
   ]
  },
  {
   "cell_type": "code",
   "execution_count": 14,
   "id": "0b17595e",
   "metadata": {},
   "outputs": [
    {
     "name": "stdout",
     "output_type": "stream",
     "text": [
      "Funciona\n"
     ]
    }
   ],
   "source": [
    "if True:\n",
    "    print(\"Funciona\")"
   ]
  },
  {
   "cell_type": "code",
   "execution_count": null,
   "id": "da1ac4bc",
   "metadata": {},
   "outputs": [
    {
     "name": "stdout",
     "output_type": "stream",
     "text": [
      "Funciona\n"
     ]
    }
   ],
   "source": [
    "if 4 > 3\n",
    "    print('Funciona')"
   ]
  },
  {
   "cell_type": "markdown",
   "id": "0f86940a",
   "metadata": {},
   "source": [
    "**Ficar atento a identação e sintaxe do código**"
   ]
  },
  {
   "cell_type": "markdown",
   "id": "f1cb5f6b",
   "metadata": {},
   "source": [
    "### Condicionais Aninhados"
   ]
  },
  {
   "cell_type": "code",
   "execution_count": 16,
   "id": "ad2ac3d6",
   "metadata": {},
   "outputs": [
    {
     "name": "stdout",
     "output_type": "stream",
     "text": [
      "Você pode dirigir\n"
     ]
    }
   ],
   "source": [
    "idade = 18\n",
    "if  idade > 17:\n",
    "    print(\"Você pode dirigir\")\n"
   ]
  },
  {
   "cell_type": "code",
   "execution_count": 17,
   "id": "ea7f18fd",
   "metadata": {},
   "outputs": [
    {
     "name": "stdout",
     "output_type": "stream",
     "text": [
      "Ok Bob, está autorizado\n"
     ]
    }
   ],
   "source": [
    "Nome = \"Bob\"\n",
    "if idade > 13:\n",
    "    if Nome == \"Bob\":\n",
    "        print(\"Ok Bob, está autorizado\")\n",
    "    else:\n",
    "        print(\"Não autorizado!\")"
   ]
  },
  {
   "cell_type": "code",
   "execution_count": 18,
   "id": "7da63d17",
   "metadata": {},
   "outputs": [
    {
     "name": "stdout",
     "output_type": "stream",
     "text": [
      "Ok Bob, está autorizado\n"
     ]
    }
   ],
   "source": [
    "idade = 13\n",
    "Nome = \"Bob\"\n",
    "if idade >= 13 and Nome == \"Bob\":\n",
    "    print(\"Ok Bob, está autorizado\")"
   ]
  },
  {
   "cell_type": "code",
   "execution_count": 19,
   "id": "a0b875c0",
   "metadata": {},
   "outputs": [
    {
     "name": "stdout",
     "output_type": "stream",
     "text": [
      "Ok Bob, está autorizado\n"
     ]
    }
   ],
   "source": [
    "idade = 13\n",
    "Nome = \"Bob\"\n",
    "if (idade >= 13) or (Nome == \"Bob\"):\n",
    "    print(\"Ok Bob, está autorizado\")"
   ]
  },
  {
   "cell_type": "markdown",
   "id": "528510b6",
   "metadata": {},
   "source": [
    "### Operadores Lógicos"
   ]
  },
  {
   "cell_type": "markdown",
   "id": "2d58267e",
   "metadata": {},
   "source": [
    "Os operadores lógicos funcionam da seguinte forma:\n",
    "\n",
    "> - **AND** - Retorna True se ambas forem verdadeiras\n",
    "> - **OR** - Retorna True se uma das declarações for verdadeira\n",
    "> - **NOT** - Inverte o resultado, retorna False se o resultado for True\n"
   ]
  },
  {
   "cell_type": "code",
   "execution_count": 20,
   "id": "260ebbc5",
   "metadata": {},
   "outputs": [
    {
     "name": "stdout",
     "output_type": "stream",
     "text": [
      "Condições verdadeiras\n"
     ]
    }
   ],
   "source": [
    "numero = 4\n",
    "\n",
    "if (numero > 2 ) and (numero % 2 == 0):\n",
    "    print(\"Condições verdadeiras\")"
   ]
  },
  {
   "cell_type": "code",
   "execution_count": 21,
   "id": "f636f8dd",
   "metadata": {},
   "outputs": [
    {
     "name": "stdout",
     "output_type": "stream",
     "text": [
      "Condições falsas\n"
     ]
    }
   ],
   "source": [
    "numero = 4\n",
    "\n",
    "if (numero > 5 ) and (numero % 2 == 0):\n",
    "    print(\"Condições verdadeiras\")\n",
    "else:\n",
    "    print(\"Condições falsas\")"
   ]
  },
  {
   "cell_type": "code",
   "execution_count": 22,
   "id": "07e0d9ee",
   "metadata": {},
   "outputs": [
    {
     "name": "stdout",
     "output_type": "stream",
     "text": [
      "uma das condições é verdadeiras\n"
     ]
    }
   ],
   "source": [
    "numero = 4\n",
    "\n",
    "if (numero > 5 ) or (numero % 2 == 0):\n",
    "    print(\"uma das condições é verdadeiras\")"
   ]
  },
  {
   "cell_type": "code",
   "execution_count": 23,
   "id": "f0e4bcfc",
   "metadata": {},
   "outputs": [
    {
     "name": "stdout",
     "output_type": "stream",
     "text": [
      "Duas condições verdadeiras\n"
     ]
    }
   ],
   "source": [
    "numero = 4\n",
    "\n",
    "if not(numero > 5 ) and (numero % 2 == 0):\n",
    "    print(\"Duas condições verdadeiras\")\n",
    "else:\n",
    "    print(\"Uma condição falsa\")"
   ]
  },
  {
   "cell_type": "code",
   "execution_count": 24,
   "id": "de326d11",
   "metadata": {},
   "outputs": [
    {
     "name": "stdout",
     "output_type": "stream",
     "text": [
      "Está sendo impresso porque as duas primeiras são verdadeiras ou a terceira é verdadeira\n"
     ]
    }
   ],
   "source": [
    "numero = 4\n",
    "\n",
    "if (not(numero > 5) and (numero % 2 == 0)) or (numero == 4):\n",
    "    print(\"Está sendo impresso porque as duas primeiras são verdadeiras ou a terceira é verdadeira\")"
   ]
  },
  {
   "cell_type": "code",
   "execution_count": 25,
   "id": "703f666c",
   "metadata": {},
   "outputs": [
    {
     "name": "stdout",
     "output_type": "stream",
     "text": [
      "Aprovado!\n"
     ]
    }
   ],
   "source": [
    "disciplina = \"Data Science\"\n",
    "nota_final = 70\n",
    "\n",
    "if disciplina == \"Data Science\" and nota_final >= 70:\n",
    "    print(\"Aprovado!\")\n",
    "else:\n",
    "    print(\"Reprovado!\")"
   ]
  },
  {
   "cell_type": "code",
   "execution_count": 26,
   "id": "b88a0b07",
   "metadata": {},
   "outputs": [
    {
     "name": "stdout",
     "output_type": "stream",
     "text": [
      "Reprovado!\n"
     ]
    }
   ],
   "source": [
    "disciplina = \"Data Science\"\n",
    "nota_final = 60\n",
    "\n",
    "if disciplina == \"Data Science\" and nota_final >= 70:\n",
    "    print(\"Aprovado!\")\n",
    "else:\n",
    "    print(\"Reprovado!\")"
   ]
  },
  {
   "cell_type": "markdown",
   "id": "c314aefb",
   "metadata": {},
   "source": [
    "**Placeholders**"
   ]
  },
  {
   "cell_type": "code",
   "execution_count": 29,
   "id": "9f681c84",
   "metadata": {},
   "outputs": [
    {
     "name": "stdout",
     "output_type": "stream",
     "text": [
      "Você foi aprovado em Data Science com nota final 90!\n"
     ]
    }
   ],
   "source": [
    "disciplina = \"Data Science\"\n",
    "nota_final = 90\n",
    "semestre = 2\n",
    "\n",
    "if disciplina == \"Data Science\" and nota_final >= 80 and semestre != 1:\n",
    "    print(\"Você foi aprovado em %s com nota final %r!\" %(disciplina, nota_final))\n",
    "else:\n",
    "    print(\"Reprovado!\")"
   ]
  },
  {
   "cell_type": "markdown",
   "id": "b34c9ef5",
   "metadata": {},
   "source": [
    "### Fim"
   ]
  }
 ],
 "metadata": {
  "kernelspec": {
   "display_name": "base",
   "language": "python",
   "name": "python3"
  },
  "language_info": {
   "codemirror_mode": {
    "name": "ipython",
    "version": 3
   },
   "file_extension": ".py",
   "mimetype": "text/x-python",
   "name": "python",
   "nbconvert_exporter": "python",
   "pygments_lexer": "ipython3",
   "version": "3.12.7"
  }
 },
 "nbformat": 4,
 "nbformat_minor": 5
}
