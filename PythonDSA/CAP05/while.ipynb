{
 "cells": [
  {
   "cell_type": "markdown",
   "id": "4718f315",
   "metadata": {},
   "source": [
    "## Loop While "
   ]
  },
  {
   "cell_type": "code",
   "execution_count": 2,
   "id": "ba1723ff",
   "metadata": {},
   "outputs": [
    {
     "name": "stdout",
     "output_type": "stream",
     "text": [
      "0\n",
      "1\n",
      "2\n",
      "3\n",
      "4\n",
      "5\n",
      "6\n",
      "7\n",
      "8\n",
      "9\n",
      "10\n"
     ]
    }
   ],
   "source": [
    "# usando o loop while para imprimir os valores de 0 a 9\n",
    "# a condição tem que deixqr de ser verdadeira dentro do loop senão pode travar\n",
    "\n",
    "valor = 0\n",
    "while valor <= 10:\n",
    "    print(valor)\n",
    "    valor = valor + 1"
   ]
  },
  {
   "cell_type": "code",
   "execution_count": 3,
   "id": "2a1ccb54",
   "metadata": {},
   "outputs": [],
   "source": [
    "# Entra no loop somente se a condição for verdadeira\n",
    "valor = 11\n",
    "while valor < 10:\n",
    "    print(v)\n",
    "    valor = valor+1"
   ]
  },
  {
   "cell_type": "code",
   "execution_count": 1,
   "id": "e38986d3",
   "metadata": {},
   "outputs": [
    {
     "name": "stdout",
     "output_type": "stream",
     "text": [
      "o valor de x nessa iteração é:  0\n",
      "x ainda é menor que 10, somando 1 a x \n",
      "o valor de x nessa iteração é:  1\n",
      "x ainda é menor que 10, somando 1 a x \n",
      "o valor de x nessa iteração é:  2\n",
      "x ainda é menor que 10, somando 1 a x \n",
      "o valor de x nessa iteração é:  3\n",
      "x ainda é menor que 10, somando 1 a x \n",
      "o valor de x nessa iteração é:  4\n",
      "x ainda é menor que 10, somando 1 a x \n",
      "o valor de x nessa iteração é:  5\n",
      "x ainda é menor que 10, somando 1 a x \n",
      "o valor de x nessa iteração é:  6\n",
      "x ainda é menor que 10, somando 1 a x \n",
      "o valor de x nessa iteração é:  7\n",
      "x ainda é menor que 10, somando 1 a x \n",
      "o valor de x nessa iteração é:  8\n",
      "x ainda é menor que 10, somando 1 a x \n",
      "o valor de x nessa iteração é:  9\n",
      "x ainda é menor que 10, somando 1 a x \n",
      "loop concluído\n",
      "10\n"
     ]
    }
   ],
   "source": [
    "# também é possível usar a clausula para encerrar o loop while\n",
    "x = 0\n",
    "\n",
    "while x < 10:\n",
    "    print('o valor de x nessa iteração é: ', x)\n",
    "    print('x ainda é menor que 10, somando 1 a x ')\n",
    "    x+=1\n",
    "else:\n",
    "    print('loop concluído')\n",
    "print(x)"
   ]
  },
  {
   "cell_type": "markdown",
   "id": "c0d80f82",
   "metadata": {},
   "source": [
    "### Pass, break, continue"
   ]
  },
  {
   "cell_type": "code",
   "execution_count": 8,
   "id": "8ee56375",
   "metadata": {},
   "outputs": [
    {
     "name": "stdout",
     "output_type": "stream",
     "text": [
      "0\n",
      "1\n",
      "2\n",
      "3\n"
     ]
    }
   ],
   "source": [
    "# se encontrar o número 4 interrompe o looping\n",
    "valor = 0\n",
    "\n",
    "while valor < 10:\n",
    "    if valor == 4:\n",
    "        break\n",
    "    else:\n",
    "        pass\n",
    "    print(valor)\n",
    "    valor += 1"
   ]
  },
  {
   "cell_type": "code",
   "execution_count": 7,
   "id": "ab236c49",
   "metadata": {},
   "outputs": [
    {
     "name": "stdout",
     "output_type": "stream",
     "text": [
      "p\n",
      "y\n",
      "t\n",
      "h\n",
      "o\n",
      "n\n",
      " \n",
      "é\n",
      " \n",
      " \n",
      "i\n",
      "n\n",
      "c\n",
      "r\n",
      "í\n",
      "v\n",
      "e\n",
      "l\n",
      "!\n"
     ]
    }
   ],
   "source": [
    "# desconsideramos a letra z ao imprimir os caracteres da frase\n",
    "\n",
    "for letra in 'python é zzzz incrível!':\n",
    "    if letra == 'z':\n",
    "        continue\n",
    "    print(letra)"
   ]
  },
  {
   "cell_type": "markdown",
   "id": "07759a97",
   "metadata": {},
   "source": [
    "### While e For juntos\n",
    "\n",
    "vamos encontrar números primos em uma coleção de números usando loop while e for juntos.\n",
    "\n",
    "um número primoé um número maior que 1 que é divisível apenas por 1 1 ele mesmo. Isso significa que não há nenhum outro número inteiro que possa dividir o número primo sem deixar resto. Por exemplo, o 2 é primp, podis divide só por 1 e 2. o 4 não é primo pois divide por 2.\n",
    "\n",
    "pseudocódigo:\n",
    "\n",
    "Inicialize uma lista vazia para armazenar os numeros primos\n",
    "Para cada número N entre 2 e 30:\n",
    "    Inicie uma variavel eh_primo como verdadeira\n",
    "    Para cada numero i entre 2 e N/2:\n",
    "        Se N divide por i, então:\n",
    "            altere a variavel eh_primo para false\n",
    "            Pare de verificar os outros números \n",
    "    Se a variavel eh_primo ainda é verdadeira, adicione N a lista de numros primos\n",
    "Imprima a lista"
   ]
  },
  {
   "cell_type": "code",
   "execution_count": 18,
   "id": "01ad59bc",
   "metadata": {},
   "outputs": [
    {
     "name": "stdout",
     "output_type": "stream",
     "text": [
      "[2, 3, 5, 7, 11, 13, 17, 19, 23, 29, 31, 37, 41, 43, 47]\n",
      "CPU times: total: 0 ns\n",
      "Wall time: 0 ns\n"
     ]
    }
   ],
   "source": [
    "%%time \n",
    "\n",
    "primos = []\n",
    "\n",
    "# loop de 2 a 30\n",
    "for num in range(2, 51):\n",
    "    eh_primo = True\n",
    "\n",
    "    # loop while para verificar se é primo\n",
    "    i = 2\n",
    "    while i <= num // 2:\n",
    "        if num % i == 0:\n",
    "            eh_primo = False\n",
    "            break\n",
    "        i += 1\n",
    "    \n",
    "    # Adicionando a lisa\n",
    "    if eh_primo:\n",
    "        primos.append(num)\n",
    "\n",
    "print(primos)"
   ]
  },
  {
   "cell_type": "code",
   "execution_count": 17,
   "id": "7e03f742",
   "metadata": {},
   "outputs": [
    {
     "name": "stdout",
     "output_type": "stream",
     "text": [
      "2 é um número primo\n",
      "3 é um número primo\n",
      "5 é um número primo\n",
      "7 é um número primo\n",
      "11 é um número primo\n",
      "13 é um número primo\n",
      "17 é um número primo\n",
      "19 é um número primo\n",
      "23 é um número primo\n",
      "29 é um número primo\n",
      "31 é um número primo\n",
      "37 é um número primo\n",
      "41 é um número primo\n",
      "43 é um número primo\n",
      "47 é um número primo\n",
      "[2, 3, 5, 7, 11, 13, 17, 19, 23, 29]\n",
      "CPU times: total: 0 ns\n",
      "Wall time: 543 μs\n"
     ]
    }
   ],
   "source": [
    "%%time \n",
    "\n",
    "for i in range(2, 51):\n",
    "    j = 2\n",
    "\n",
    "    valor = 0\n",
    "\n",
    "    while j < i:\n",
    "        if i % j == 0:\n",
    "            valor =  1\n",
    "\n",
    "            j += 1\n",
    "        else:\n",
    "            j += 1\n",
    "    \n",
    "    if valor == 0:\n",
    "        print(str(i) + ' é um número primo')\n",
    "        valor = 0\n",
    "    else:\n",
    "        valor = 0\n",
    "\n",
    "print(primos)"
   ]
  }
 ],
 "metadata": {
  "kernelspec": {
   "display_name": "base",
   "language": "python",
   "name": "python3"
  },
  "language_info": {
   "codemirror_mode": {
    "name": "ipython",
    "version": 3
   },
   "file_extension": ".py",
   "mimetype": "text/x-python",
   "name": "python",
   "nbconvert_exporter": "python",
   "pygments_lexer": "ipython3",
   "version": "3.12.7"
  }
 },
 "nbformat": 4,
 "nbformat_minor": 5
}
