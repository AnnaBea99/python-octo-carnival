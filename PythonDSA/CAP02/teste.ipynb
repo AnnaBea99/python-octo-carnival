{
 "cells": [
  {
   "cell_type": "code",
   "execution_count": null,
   "id": "1aa59f0d",
   "metadata": {},
   "outputs": [],
   "source": [
    "print(\"olá mundo\")\n",
    "nome = input(\"Qual o seu nome? \")\n",
    "print(\"Olá \" + nome + \"!\")"
   ]
  },
  {
   "cell_type": "code",
   "execution_count": null,
   "id": "ab9242ff",
   "metadata": {},
   "outputs": [],
   "source": [
    "# Cria uma lista de números de 1 a 100\n",
    "numeros = list(range(1, 101))\n",
    "\n",
    "# Percorre a lista e imprime os números pares que também são divisíveis por 4\n",
    "for numero in numeros:\n",
    "    if numero % 2 == 0 and numero % 4 == 0:\n",
    "        print(numero)\n",
    "\n",
    "\n",
    "# Lista com números de 1 a 100 que são pares e divisíveis por 4\n",
    "numeros_filtrados = [n for n in range(1, 101) if n % 2 == 0 and n % 4 == 0]\n",
    "\n",
    "# Imprime os números filtrados\n",
    "print(numeros_filtrados)"
   ]
  }
 ],
 "metadata": {
  "kernelspec": {
   "display_name": "base",
   "language": "python",
   "name": "python3"
  },
  "language_info": {
   "codemirror_mode": {
    "name": "ipython",
    "version": 3
   },
   "file_extension": ".py",
   "mimetype": "text/x-python",
   "name": "python",
   "nbconvert_exporter": "python",
   "pygments_lexer": "ipython3",
   "version": "3.12.7"
  }
 },
 "nbformat": 4,
 "nbformat_minor": 5
}
