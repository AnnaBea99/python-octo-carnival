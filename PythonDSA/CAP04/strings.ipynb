{
 "cells": [
  {
   "cell_type": "markdown",
   "id": "5474978d",
   "metadata": {},
   "source": [
    "## Capítulo 4 - Strings e Indexação"
   ]
  },
  {
   "cell_type": "markdown",
   "id": "f4f04593",
   "metadata": {},
   "source": [
    "### Criando uma String\n",
    "\n",
    "Pode usar aspas simples ou duplas"
   ]
  },
  {
   "cell_type": "code",
   "execution_count": 102,
   "id": "c973e67f",
   "metadata": {},
   "outputs": [
    {
     "data": {
      "text/plain": [
       "'Oi'"
      ]
     },
     "execution_count": 102,
     "metadata": {},
     "output_type": "execute_result"
    }
   ],
   "source": [
    "'Oi'"
   ]
  },
  {
   "cell_type": "code",
   "execution_count": 103,
   "id": "86edeba4",
   "metadata": {},
   "outputs": [
    {
     "data": {
      "text/plain": [
       "'Olá, como você está?'"
      ]
     },
     "execution_count": 103,
     "metadata": {},
     "output_type": "execute_result"
    }
   ],
   "source": [
    "'Olá, como você está?'"
   ]
  },
  {
   "cell_type": "code",
   "execution_count": 104,
   "id": "bc7cb196",
   "metadata": {},
   "outputs": [
    {
     "data": {
      "text/plain": [
       "'Olaaaaaaaaaaa!'"
      ]
     },
     "execution_count": 104,
     "metadata": {},
     "output_type": "execute_result"
    }
   ],
   "source": [
    "\"Olaaaaaaaaaaa!\""
   ]
  },
  {
   "cell_type": "code",
   "execution_count": 105,
   "id": "1675cc5c",
   "metadata": {},
   "outputs": [
    {
     "data": {
      "text/plain": [
       "'Teste 1, 2, 3!'"
      ]
     },
     "execution_count": 105,
     "metadata": {},
     "output_type": "execute_result"
    }
   ],
   "source": [
    "\"Teste 1, 2, 3!\""
   ]
  },
  {
   "cell_type": "markdown",
   "id": "77114f6d",
   "metadata": {},
   "source": [
    "### Imprimindo Strings"
   ]
  },
  {
   "cell_type": "code",
   "execution_count": 106,
   "id": "ce258777",
   "metadata": {},
   "outputs": [
    {
     "name": "stdout",
     "output_type": "stream",
     "text": [
      "Teste\n"
     ]
    }
   ],
   "source": [
    "print('Teste')"
   ]
  },
  {
   "cell_type": "code",
   "execution_count": 107,
   "id": "a843774e",
   "metadata": {},
   "outputs": [
    {
     "name": "stdout",
     "output_type": "stream",
     "text": [
      "Teste \n",
      " Strings \n",
      "em \n",
      " Python!\n"
     ]
    }
   ],
   "source": [
    "print('Teste \\n Strings \\nem \\n Python!')"
   ]
  },
  {
   "cell_type": "code",
   "execution_count": 108,
   "id": "7e530778",
   "metadata": {},
   "outputs": [
    {
     "name": "stdout",
     "output_type": "stream",
     "text": [
      "\n",
      "\n"
     ]
    }
   ],
   "source": [
    "print('\\n')"
   ]
  },
  {
   "cell_type": "markdown",
   "id": "99d41a14",
   "metadata": {},
   "source": [
    "### Indexando Strings"
   ]
  },
  {
   "cell_type": "code",
   "execution_count": 109,
   "id": "f4d7fdf0",
   "metadata": {},
   "outputs": [],
   "source": [
    "s = \"Data Science Academy\""
   ]
  },
  {
   "cell_type": "code",
   "execution_count": 110,
   "id": "031ec25b",
   "metadata": {},
   "outputs": [
    {
     "name": "stdout",
     "output_type": "stream",
     "text": [
      "Data Science Academy\n"
     ]
    }
   ],
   "source": [
    "print(s)"
   ]
  },
  {
   "cell_type": "markdown",
   "id": "c4d8253e",
   "metadata": {},
   "source": [
    "Indexação em Python começa por zero."
   ]
  },
  {
   "cell_type": "code",
   "execution_count": 111,
   "id": "2361df86",
   "metadata": {},
   "outputs": [
    {
     "data": {
      "text/plain": [
       "'D'"
      ]
     },
     "execution_count": 111,
     "metadata": {},
     "output_type": "execute_result"
    }
   ],
   "source": [
    "s[0]"
   ]
  },
  {
   "cell_type": "code",
   "execution_count": 112,
   "id": "3cde2aec",
   "metadata": {},
   "outputs": [
    {
     "data": {
      "text/plain": [
       "'a'"
      ]
     },
     "execution_count": 112,
     "metadata": {},
     "output_type": "execute_result"
    }
   ],
   "source": [
    "s[1]"
   ]
  },
  {
   "cell_type": "code",
   "execution_count": 113,
   "id": "936c50fb",
   "metadata": {},
   "outputs": [
    {
     "data": {
      "text/plain": [
       "'t'"
      ]
     },
     "execution_count": 113,
     "metadata": {},
     "output_type": "execute_result"
    }
   ],
   "source": [
    "s[2]"
   ]
  },
  {
   "cell_type": "code",
   "execution_count": 114,
   "id": "4613aa7a",
   "metadata": {},
   "outputs": [
    {
     "data": {
      "text/plain": [
       "'a'"
      ]
     },
     "execution_count": 114,
     "metadata": {},
     "output_type": "execute_result"
    }
   ],
   "source": [
    "s[3]"
   ]
  },
  {
   "cell_type": "markdown",
   "id": "b456aa9d",
   "metadata": {},
   "source": [
    "Pode usar um : para executar um slicing que faz a leitura de tudo até um ponto designado. Por exemplo:"
   ]
  },
  {
   "cell_type": "code",
   "execution_count": 115,
   "id": "12c9d97c",
   "metadata": {},
   "outputs": [
    {
     "data": {
      "text/plain": [
       "'ata Science Academy'"
      ]
     },
     "execution_count": 115,
     "metadata": {},
     "output_type": "execute_result"
    }
   ],
   "source": [
    "# Retorna todos os elementos da string, começando pela posição\n",
    "# (lembre-se que python começa pelo 0)\n",
    "# até o fim da string\n",
    "\n",
    "s[1:] "
   ]
  },
  {
   "cell_type": "code",
   "execution_count": 116,
   "id": "97930da4",
   "metadata": {},
   "outputs": [
    {
     "data": {
      "text/plain": [
       "'Data Science Academy'"
      ]
     },
     "execution_count": 116,
     "metadata": {},
     "output_type": "execute_result"
    }
   ],
   "source": [
    "# original\n",
    "s"
   ]
  },
  {
   "cell_type": "code",
   "execution_count": 117,
   "id": "03032ac8",
   "metadata": {},
   "outputs": [
    {
     "data": {
      "text/plain": [
       "'Dat'"
      ]
     },
     "execution_count": 117,
     "metadata": {},
     "output_type": "execute_result"
    }
   ],
   "source": [
    "# Reetorna tudo até a posição 3\n",
    "s[:3]"
   ]
  },
  {
   "cell_type": "code",
   "execution_count": 118,
   "id": "31d500aa",
   "metadata": {},
   "outputs": [
    {
     "data": {
      "text/plain": [
       "'y'"
      ]
     },
     "execution_count": 118,
     "metadata": {},
     "output_type": "execute_result"
    }
   ],
   "source": [
    "# Ela negativa vai de trás para frente\n",
    "s[-1]"
   ]
  },
  {
   "cell_type": "code",
   "execution_count": 119,
   "id": "c1e5a562",
   "metadata": {},
   "outputs": [
    {
     "data": {
      "text/plain": [
       "'Data Science Academ'"
      ]
     },
     "execution_count": 119,
     "metadata": {},
     "output_type": "execute_result"
    }
   ],
   "source": [
    "# Retorna tudo, exceto a última letra\n",
    "\n",
    "s[:-1]"
   ]
  },
  {
   "cell_type": "markdown",
   "id": "c24681e6",
   "metadata": {},
   "source": [
    "Pode usar a notação de índice e fatiar a string em pedeços específicos (o padrão é 1)  \n",
    "Por exemplo, podemos usar dois pontos duas vezes em uma linha e, em seguida, um número que especifica a frequência para retornar elementos"
   ]
  },
  {
   "cell_type": "code",
   "execution_count": 120,
   "id": "f97a5132",
   "metadata": {},
   "outputs": [
    {
     "data": {
      "text/plain": [
       "'Data Science Academy'"
      ]
     },
     "execution_count": 120,
     "metadata": {},
     "output_type": "execute_result"
    }
   ],
   "source": [
    "s[::1]"
   ]
  },
  {
   "cell_type": "code",
   "execution_count": 121,
   "id": "0323f5bc",
   "metadata": {},
   "outputs": [
    {
     "data": {
      "text/plain": [
       "'Dt cec cdm'"
      ]
     },
     "execution_count": 121,
     "metadata": {},
     "output_type": "execute_result"
    }
   ],
   "source": [
    "s[::2]"
   ]
  },
  {
   "cell_type": "code",
   "execution_count": 122,
   "id": "5268074e",
   "metadata": {},
   "outputs": [
    {
     "data": {
      "text/plain": [
       "'ymedacA ecneicS ataD'"
      ]
     },
     "execution_count": 122,
     "metadata": {},
     "output_type": "execute_result"
    }
   ],
   "source": [
    "s[::-1]"
   ]
  },
  {
   "cell_type": "markdown",
   "id": "1ce570ac",
   "metadata": {},
   "source": [
    "Propriedades de Stirngs"
   ]
  },
  {
   "cell_type": "code",
   "execution_count": 123,
   "id": "4d3af70b",
   "metadata": {},
   "outputs": [
    {
     "data": {
      "text/plain": [
       "'Data Science Academy'"
      ]
     },
     "execution_count": 123,
     "metadata": {},
     "output_type": "execute_result"
    }
   ],
   "source": [
    "s"
   ]
  },
  {
   "cell_type": "code",
   "execution_count": 124,
   "id": "46944e8a",
   "metadata": {},
   "outputs": [
    {
     "ename": "TypeError",
     "evalue": "'str' object does not support item assignment",
     "output_type": "error",
     "traceback": [
      "\u001b[1;31m---------------------------------------------------------------------------\u001b[0m",
      "\u001b[1;31mTypeError\u001b[0m                                 Traceback (most recent call last)",
      "Cell \u001b[1;32mIn[124], line 2\u001b[0m\n\u001b[0;32m      1\u001b[0m \u001b[38;5;66;03m# Alternando um caracter (não é possívelalterar um elemento da string)\u001b[39;00m\n\u001b[1;32m----> 2\u001b[0m s[\u001b[38;5;241m0\u001b[39m] \u001b[38;5;241m=\u001b[39m \u001b[38;5;124m'\u001b[39m\u001b[38;5;124mx\u001b[39m\u001b[38;5;124m'\u001b[39m\n",
      "\u001b[1;31mTypeError\u001b[0m: 'str' object does not support item assignment"
     ]
    }
   ],
   "source": [
    "# Alternando um caracter (não é possívelalterar um elemento da string)\n",
    "s[0] = 'x'"
   ]
  },
  {
   "cell_type": "code",
   "execution_count": 125,
   "id": "f3075e09",
   "metadata": {},
   "outputs": [
    {
     "data": {
      "text/plain": [
       "'Data Science Academy teste. 1, 2, 3!'"
      ]
     },
     "execution_count": 125,
     "metadata": {},
     "output_type": "execute_result"
    }
   ],
   "source": [
    "# Concatenando strings\n",
    "s + ' teste. 1, 2, 3!'"
   ]
  },
  {
   "cell_type": "code",
   "execution_count": 126,
   "id": "e860e0cd",
   "metadata": {},
   "outputs": [],
   "source": [
    "s = s + ' teste, 4, 5, 6!'"
   ]
  },
  {
   "cell_type": "code",
   "execution_count": 127,
   "id": "a570c0f7",
   "metadata": {},
   "outputs": [
    {
     "name": "stdout",
     "output_type": "stream",
     "text": [
      "Data Science Academy teste, 4, 5, 6!\n"
     ]
    }
   ],
   "source": [
    "print(s)"
   ]
  },
  {
   "cell_type": "code",
   "execution_count": 128,
   "id": "1a6ecc41",
   "metadata": {},
   "outputs": [],
   "source": [
    "letra = 'w'"
   ]
  },
  {
   "cell_type": "code",
   "execution_count": 129,
   "id": "a08fcf10",
   "metadata": {},
   "outputs": [
    {
     "data": {
      "text/plain": [
       "'www'"
      ]
     },
     "execution_count": 129,
     "metadata": {},
     "output_type": "execute_result"
    }
   ],
   "source": [
    "letra * 3"
   ]
  },
  {
   "cell_type": "markdown",
   "id": "a2dcdb31",
   "metadata": {},
   "source": [
    "### Funções Bulit-in de Strings"
   ]
  },
  {
   "cell_type": "code",
   "execution_count": 130,
   "id": "894963ad",
   "metadata": {},
   "outputs": [
    {
     "data": {
      "text/plain": [
       "'Data Science Academy teste, 4, 5, 6!'"
      ]
     },
     "execution_count": 130,
     "metadata": {},
     "output_type": "execute_result"
    }
   ],
   "source": [
    "s"
   ]
  },
  {
   "cell_type": "code",
   "execution_count": 131,
   "id": "2ea1cb2a",
   "metadata": {},
   "outputs": [
    {
     "data": {
      "text/plain": [
       "'DATA SCIENCE ACADEMY TESTE, 4, 5, 6!'"
      ]
     },
     "execution_count": 131,
     "metadata": {},
     "output_type": "execute_result"
    }
   ],
   "source": [
    "# Upper Case\n",
    "s.upper()"
   ]
  },
  {
   "cell_type": "code",
   "execution_count": 132,
   "id": "60a800b4",
   "metadata": {},
   "outputs": [
    {
     "data": {
      "text/plain": [
       "'data science academy teste, 4, 5, 6!'"
      ]
     },
     "execution_count": 132,
     "metadata": {},
     "output_type": "execute_result"
    }
   ],
   "source": [
    "# lower case\n",
    "s.lower()"
   ]
  },
  {
   "cell_type": "code",
   "execution_count": 133,
   "id": "c6f97d88",
   "metadata": {},
   "outputs": [
    {
     "data": {
      "text/plain": [
       "['Data', 'Science', 'Academy', 'teste,', '4,', '5,', '6!']"
      ]
     },
     "execution_count": 133,
     "metadata": {},
     "output_type": "execute_result"
    }
   ],
   "source": [
    "# Dividir uma string por espaços em branco (padrão)\n",
    "s.split()"
   ]
  },
  {
   "cell_type": "markdown",
   "id": "abf4d1cc",
   "metadata": {},
   "source": [
    "### Funções String"
   ]
  },
  {
   "cell_type": "code",
   "execution_count": 136,
   "id": "d9daba53",
   "metadata": {},
   "outputs": [],
   "source": [
    "s = 'seja bem-vindo ao universo da linguagem python!'"
   ]
  },
  {
   "cell_type": "code",
   "execution_count": 137,
   "id": "c505344c",
   "metadata": {},
   "outputs": [
    {
     "data": {
      "text/plain": [
       "'Seja bem-vindo ao universo da linguagem python!'"
      ]
     },
     "execution_count": 137,
     "metadata": {},
     "output_type": "execute_result"
    }
   ],
   "source": [
    "s.capitalize()"
   ]
  },
  {
   "cell_type": "code",
   "execution_count": 138,
   "id": "03e69a86",
   "metadata": {},
   "outputs": [
    {
     "data": {
      "text/plain": [
       "4"
      ]
     },
     "execution_count": 138,
     "metadata": {},
     "output_type": "execute_result"
    }
   ],
   "source": [
    "s.count(\"a\")"
   ]
  },
  {
   "cell_type": "code",
   "execution_count": 139,
   "id": "29f9e103",
   "metadata": {},
   "outputs": [
    {
     "data": {
      "text/plain": [
       "False"
      ]
     },
     "execution_count": 139,
     "metadata": {},
     "output_type": "execute_result"
    }
   ],
   "source": [
    "s.isalnum()"
   ]
  },
  {
   "cell_type": "code",
   "execution_count": 140,
   "id": "de725245",
   "metadata": {},
   "outputs": [
    {
     "data": {
      "text/plain": [
       "True"
      ]
     },
     "execution_count": 140,
     "metadata": {},
     "output_type": "execute_result"
    }
   ],
   "source": [
    "s.islower()"
   ]
  },
  {
   "cell_type": "code",
   "execution_count": 141,
   "id": "d4214c23",
   "metadata": {},
   "outputs": [
    {
     "data": {
      "text/plain": [
       "False"
      ]
     },
     "execution_count": 141,
     "metadata": {},
     "output_type": "execute_result"
    }
   ],
   "source": [
    "s.isspace()"
   ]
  },
  {
   "cell_type": "code",
   "execution_count": 142,
   "id": "12a0f974",
   "metadata": {},
   "outputs": [
    {
     "data": {
      "text/plain": [
       "False"
      ]
     },
     "execution_count": 142,
     "metadata": {},
     "output_type": "execute_result"
    }
   ],
   "source": [
    "s.endswith(\"o\")"
   ]
  },
  {
   "cell_type": "markdown",
   "id": "00816061",
   "metadata": {},
   "source": [
    "### Comparando Strings "
   ]
  },
  {
   "cell_type": "code",
   "execution_count": 143,
   "id": "51bcc409",
   "metadata": {},
   "outputs": [
    {
     "name": "stdout",
     "output_type": "stream",
     "text": [
      "False\n"
     ]
    }
   ],
   "source": [
    "print(\"Python\" == \"R\")"
   ]
  },
  {
   "cell_type": "code",
   "execution_count": 144,
   "id": "864583da",
   "metadata": {},
   "outputs": [
    {
     "name": "stdout",
     "output_type": "stream",
     "text": [
      "True\n"
     ]
    }
   ],
   "source": [
    "print(\"Python\" == \"Python\")"
   ]
  }
 ],
 "metadata": {
  "kernelspec": {
   "display_name": "base",
   "language": "python",
   "name": "python3"
  },
  "language_info": {
   "codemirror_mode": {
    "name": "ipython",
    "version": 3
   },
   "file_extension": ".py",
   "mimetype": "text/x-python",
   "name": "python",
   "nbconvert_exporter": "python",
   "pygments_lexer": "ipython3",
   "version": "3.12.7"
  }
 },
 "nbformat": 4,
 "nbformat_minor": 5
}
