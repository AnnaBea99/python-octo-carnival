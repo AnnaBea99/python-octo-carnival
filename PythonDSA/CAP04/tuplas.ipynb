{
 "cells": [
  {
   "cell_type": "markdown",
   "id": "3d2c12a4",
   "metadata": {},
   "source": [
    "## Capítulo 4 - Tuplas"
   ]
  },
  {
   "cell_type": "markdown",
   "id": "cb8f3b69",
   "metadata": {},
   "source": [
    "### Trabalhando com Tuplas\n"
   ]
  },
  {
   "cell_type": "code",
   "execution_count": 3,
   "id": "aa8ca913",
   "metadata": {},
   "outputs": [],
   "source": [
    "tupla1 = ('Geografia', 23, 'Elefantes', 9.8, 'Python')"
   ]
  },
  {
   "cell_type": "code",
   "execution_count": 4,
   "id": "1763c47c",
   "metadata": {},
   "outputs": [
    {
     "data": {
      "text/plain": [
       "('Geografia', 23, 'Elefantes', 9.8, 'Python')"
      ]
     },
     "execution_count": 4,
     "metadata": {},
     "output_type": "execute_result"
    }
   ],
   "source": [
    "tupla1"
   ]
  },
  {
   "cell_type": "code",
   "execution_count": 5,
   "id": "156f7668",
   "metadata": {},
   "outputs": [
    {
     "ename": "AttributeError",
     "evalue": "'tuple' object has no attribute 'append'",
     "output_type": "error",
     "traceback": [
      "\u001b[1;31m---------------------------------------------------------------------------\u001b[0m",
      "\u001b[1;31mAttributeError\u001b[0m                            Traceback (most recent call last)",
      "Cell \u001b[1;32mIn[5], line 2\u001b[0m\n\u001b[0;32m      1\u001b[0m \u001b[38;5;66;03m# Tupla não pode modificar, se quiser modificar pode mudar apara lista e depois voltar para tupla\u001b[39;00m\n\u001b[1;32m----> 2\u001b[0m tupla1\u001b[38;5;241m.\u001b[39mappend(\u001b[38;5;124m'\u001b[39m\u001b[38;5;124mChocolate\u001b[39m\u001b[38;5;124m'\u001b[39m)\n",
      "\u001b[1;31mAttributeError\u001b[0m: 'tuple' object has no attribute 'append'"
     ]
    }
   ],
   "source": [
    "# Tupla não pode modificar, se quiser modificar pode mudar apara lista e depois voltar para tupla\n",
    "tupla1.append('Chocolate')"
   ]
  },
  {
   "cell_type": "code",
   "execution_count": 6,
   "id": "b564afd1",
   "metadata": {},
   "outputs": [
    {
     "ename": "TypeError",
     "evalue": "'tuple' object does not support item deletion",
     "output_type": "error",
     "traceback": [
      "\u001b[1;31m---------------------------------------------------------------------------\u001b[0m",
      "\u001b[1;31mTypeError\u001b[0m                                 Traceback (most recent call last)",
      "Cell \u001b[1;32mIn[6], line 2\u001b[0m\n\u001b[0;32m      1\u001b[0m \u001b[38;5;66;03m# Não dá para excluir\u001b[39;00m\n\u001b[1;32m----> 2\u001b[0m \u001b[38;5;28;01mdel\u001b[39;00m tupla1[\u001b[38;5;124m'\u001b[39m\u001b[38;5;124mElefantes\u001b[39m\u001b[38;5;124m'\u001b[39m]\n",
      "\u001b[1;31mTypeError\u001b[0m: 'tuple' object does not support item deletion"
     ]
    }
   ],
   "source": [
    "# Não dá para excluir\n",
    "del tupla1['Elefantes']"
   ]
  },
  {
   "cell_type": "code",
   "execution_count": 7,
   "id": "439f2c9f",
   "metadata": {},
   "outputs": [],
   "source": [
    "# pode ter um item só\n",
    "tupla1 = ('Chocolate')"
   ]
  },
  {
   "cell_type": "code",
   "execution_count": 9,
   "id": "95fc50da",
   "metadata": {},
   "outputs": [
    {
     "data": {
      "text/plain": [
       "'Chocolate'"
      ]
     },
     "execution_count": 9,
     "metadata": {},
     "output_type": "execute_result"
    }
   ],
   "source": [
    "tupla1"
   ]
  },
  {
   "cell_type": "code",
   "execution_count": 10,
   "id": "90962143",
   "metadata": {},
   "outputs": [],
   "source": [
    "tupla1 = ('Geografia', 23, 'Elefantes', 9.8, 'Python')"
   ]
  },
  {
   "cell_type": "code",
   "execution_count": 11,
   "id": "63e50f7e",
   "metadata": {},
   "outputs": [
    {
     "data": {
      "text/plain": [
       "'Geografia'"
      ]
     },
     "execution_count": 11,
     "metadata": {},
     "output_type": "execute_result"
    }
   ],
   "source": [
    "tupla1[0]"
   ]
  },
  {
   "cell_type": "code",
   "execution_count": 12,
   "id": "795949d8",
   "metadata": {},
   "outputs": [
    {
     "data": {
      "text/plain": [
       "5"
      ]
     },
     "execution_count": 12,
     "metadata": {},
     "output_type": "execute_result"
    }
   ],
   "source": [
    "len(tupla1)"
   ]
  },
  {
   "cell_type": "code",
   "execution_count": 13,
   "id": "b5b3778a",
   "metadata": {},
   "outputs": [
    {
     "data": {
      "text/plain": [
       "(23, 'Elefantes', 9.8, 'Python')"
      ]
     },
     "execution_count": 13,
     "metadata": {},
     "output_type": "execute_result"
    }
   ],
   "source": [
    "# Slicing\n",
    "tupla1[1:]"
   ]
  },
  {
   "cell_type": "code",
   "execution_count": 14,
   "id": "22d82407",
   "metadata": {},
   "outputs": [
    {
     "data": {
      "text/plain": [
       "2"
      ]
     },
     "execution_count": 14,
     "metadata": {},
     "output_type": "execute_result"
    }
   ],
   "source": [
    "tupla1.index('Elefantes')"
   ]
  },
  {
   "cell_type": "code",
   "execution_count": 15,
   "id": "f6cc5b67",
   "metadata": {},
   "outputs": [
    {
     "ename": "TypeError",
     "evalue": "'tuple' object does not support item assignment",
     "output_type": "error",
     "traceback": [
      "\u001b[1;31m---------------------------------------------------------------------------\u001b[0m",
      "\u001b[1;31mTypeError\u001b[0m                                 Traceback (most recent call last)",
      "Cell \u001b[1;32mIn[15], line 2\u001b[0m\n\u001b[0;32m      1\u001b[0m \u001b[38;5;66;03m# Tuplas não suportam atribuição de item\u001b[39;00m\n\u001b[1;32m----> 2\u001b[0m tupla1[\u001b[38;5;241m1\u001b[39m] \u001b[38;5;241m=\u001b[39m \u001b[38;5;241m21\u001b[39m\n",
      "\u001b[1;31mTypeError\u001b[0m: 'tuple' object does not support item assignment"
     ]
    }
   ],
   "source": [
    "# Tuplas não suportam atribuição de item\n",
    "tupla1[1] = 21"
   ]
  },
  {
   "cell_type": "code",
   "execution_count": 16,
   "id": "110951a9",
   "metadata": {},
   "outputs": [],
   "source": [
    "del tupla1"
   ]
  },
  {
   "cell_type": "code",
   "execution_count": 17,
   "id": "e7244d3c",
   "metadata": {},
   "outputs": [
    {
     "ename": "NameError",
     "evalue": "name 'tupla1' is not defined",
     "output_type": "error",
     "traceback": [
      "\u001b[1;31m---------------------------------------------------------------------------\u001b[0m",
      "\u001b[1;31mNameError\u001b[0m                                 Traceback (most recent call last)",
      "Cell \u001b[1;32mIn[17], line 1\u001b[0m\n\u001b[1;32m----> 1\u001b[0m tupla1\n",
      "\u001b[1;31mNameError\u001b[0m: name 'tupla1' is not defined"
     ]
    }
   ],
   "source": [
    "tupla1"
   ]
  },
  {
   "cell_type": "code",
   "execution_count": 18,
   "id": "81d01497",
   "metadata": {},
   "outputs": [],
   "source": [
    "t2 = ('A', 'B', 'C')"
   ]
  },
  {
   "cell_type": "code",
   "execution_count": 19,
   "id": "b65f8e5f",
   "metadata": {},
   "outputs": [
    {
     "data": {
      "text/plain": [
       "('A', 'B', 'C')"
      ]
     },
     "execution_count": 19,
     "metadata": {},
     "output_type": "execute_result"
    }
   ],
   "source": [
    "t2"
   ]
  },
  {
   "cell_type": "code",
   "execution_count": 20,
   "id": "02455e79",
   "metadata": {},
   "outputs": [
    {
     "ename": "TypeError",
     "evalue": "'tuple' object does not support item assignment",
     "output_type": "error",
     "traceback": [
      "\u001b[1;31m---------------------------------------------------------------------------\u001b[0m",
      "\u001b[1;31mTypeError\u001b[0m                                 Traceback (most recent call last)",
      "Cell \u001b[1;32mIn[20], line 1\u001b[0m\n\u001b[1;32m----> 1\u001b[0m t2[\u001b[38;5;241m0\u001b[39m] \u001b[38;5;241m=\u001b[39m \u001b[38;5;124m'\u001b[39m\u001b[38;5;124mD\u001b[39m\u001b[38;5;124m'\u001b[39m\n",
      "\u001b[1;31mTypeError\u001b[0m: 'tuple' object does not support item assignment"
     ]
    }
   ],
   "source": [
    "t2[0] = 'D'"
   ]
  },
  {
   "cell_type": "code",
   "execution_count": 21,
   "id": "b45872fd",
   "metadata": {},
   "outputs": [],
   "source": [
    "# Usa a função list para converter para lista\n",
    "lista_t2 = list(t2)"
   ]
  },
  {
   "cell_type": "code",
   "execution_count": 22,
   "id": "4d246871",
   "metadata": {},
   "outputs": [
    {
     "data": {
      "text/plain": [
       "['A', 'B', 'C']"
      ]
     },
     "execution_count": 22,
     "metadata": {},
     "output_type": "execute_result"
    }
   ],
   "source": [
    "lista_t2"
   ]
  },
  {
   "cell_type": "code",
   "execution_count": 23,
   "id": "4e52fb3b",
   "metadata": {},
   "outputs": [],
   "source": [
    "lista_t2.append('D')"
   ]
  },
  {
   "cell_type": "code",
   "execution_count": 24,
   "id": "d10efb7a",
   "metadata": {},
   "outputs": [],
   "source": [
    "# Usa a função tuple para voltar para tupla\n",
    "t2 = tuple(lista_t2)"
   ]
  },
  {
   "cell_type": "code",
   "execution_count": 25,
   "id": "cb0ebd2b",
   "metadata": {},
   "outputs": [
    {
     "data": {
      "text/plain": [
       "('A', 'B', 'C', 'D')"
      ]
     },
     "execution_count": 25,
     "metadata": {},
     "output_type": "execute_result"
    }
   ],
   "source": [
    "t2"
   ]
  }
 ],
 "metadata": {
  "kernelspec": {
   "display_name": "base",
   "language": "python",
   "name": "python3"
  },
  "language_info": {
   "codemirror_mode": {
    "name": "ipython",
    "version": 3
   },
   "file_extension": ".py",
   "mimetype": "text/x-python",
   "name": "python",
   "nbconvert_exporter": "python",
   "pygments_lexer": "ipython3",
   "version": "3.12.7"
  }
 },
 "nbformat": 4,
 "nbformat_minor": 5
}
